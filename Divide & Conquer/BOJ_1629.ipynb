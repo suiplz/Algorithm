{
  "nbformat": 4,
  "nbformat_minor": 0,
  "metadata": {
    "colab": {
      "name": "BOJ_1629.ipynb",
      "provenance": [],
      "collapsed_sections": []
    },
    "kernelspec": {
      "name": "python3",
      "display_name": "Python 3"
    },
    "language_info": {
      "name": "python"
    }
  },
  "cells": [
    {
      "cell_type": "code",
      "metadata": {
        "colab": {
          "base_uri": "https://localhost:8080/"
        },
        "id": "JHzdZGeo6nlP",
        "outputId": "a28db57a-e15e-490b-c59c-94c71d0c5e34"
      },
      "source": [
        "a, b, m = map(int, input().split())\n",
        "\n",
        "def pow(a, b, m):\n",
        "    if b == 1:\n",
        "        return a % m\n",
        "    \n",
        "    val = pow(a, b//2, m)\n",
        "    \n",
        "    if(b%2 ==0):\n",
        "        return val * val % m\n",
        "    return val * val * a % m\n",
        "\n",
        "pow(a,b,m)"
      ],
      "execution_count": null,
      "outputs": [
        {
          "output_type": "stream",
          "name": "stdout",
          "text": [
            "2 10 9\n",
            "2 2 4\n",
            "5 4 5\n",
            "10 5 7\n"
          ]
        },
        {
          "output_type": "execute_result",
          "data": {
            "text/plain": [
              "7"
            ]
          },
          "metadata": {},
          "execution_count": 15
        }
      ]
    },
    {
      "cell_type": "code",
      "metadata": {
        "colab": {
          "base_uri": "https://localhost:8080/"
        },
        "id": "qOknx3-w69Ub",
        "outputId": "d25b352b-1f1a-473a-df0c-c3df7b4b2781"
      },
      "source": [
        ""
      ],
      "execution_count": null,
      "outputs": [
        {
          "output_type": "execute_result",
          "data": {
            "text/plain": [
              "1"
            ]
          },
          "metadata": {},
          "execution_count": 8
        }
      ]
    },
    {
      "cell_type": "code",
      "metadata": {
        "id": "Ttd7r7Hk8ydt"
      },
      "source": [
        ""
      ],
      "execution_count": null,
      "outputs": []
    }
  ]
}